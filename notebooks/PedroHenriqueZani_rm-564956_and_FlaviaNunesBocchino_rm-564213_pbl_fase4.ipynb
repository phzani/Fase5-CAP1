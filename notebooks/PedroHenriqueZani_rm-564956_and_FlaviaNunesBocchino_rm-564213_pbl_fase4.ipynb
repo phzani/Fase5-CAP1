{
 "cells": [
  {
   "cell_type": "markdown",
   "id": "c8ab5536",
   "metadata": {},
   "source": [
    "\n",
    "#  FarmTech Solutions\n",
    "**Integrantes**: Pedro Henrique Zani (RM 564956) e Flavia Nunes Bocchino (RM 564213)\n",
    "\n",
    "\n",
    "**Arquivo:** PedroHenriqueZani_rm-564956_and_FlaviaNunesBocchino_rm-564213_pbl_fase4.ipynb\n"
   ]
  },
  {
   "cell_type": "markdown",
   "id": "65eaad67",
   "metadata": {},
   "source": [
    "### Como usar\n",
    "Execute célula por célula, na ordem. Se der erro de caminho, confira a pasta `data/`."
   ]
  },
  {
   "cell_type": "code",
   "execution_count": 15,
   "id": "44e21487",
   "metadata": {},
   "outputs": [
    {
     "name": "stdout",
     "output_type": "stream",
     "text": [
      "Dataset: c:\\Users\\pedro\\Downloads\\farmtech_solutions_simple\\data\\crop_yield.csv\n",
      "(156, 6)\n"
     ]
    },
    {
     "data": {
      "text/html": [
       "<div>\n",
       "<style scoped>\n",
       "    .dataframe tbody tr th:only-of-type {\n",
       "        vertical-align: middle;\n",
       "    }\n",
       "\n",
       "    .dataframe tbody tr th {\n",
       "        vertical-align: top;\n",
       "    }\n",
       "\n",
       "    .dataframe thead th {\n",
       "        text-align: right;\n",
       "    }\n",
       "</style>\n",
       "<table border=\"1\" class=\"dataframe\">\n",
       "  <thead>\n",
       "    <tr style=\"text-align: right;\">\n",
       "      <th></th>\n",
       "      <th>Cultura</th>\n",
       "      <th>Precipitacao_mm_dia</th>\n",
       "      <th>Umidade_especifica_gkg</th>\n",
       "      <th>Umidade_relativa_pct</th>\n",
       "      <th>Temperatura_2m_C</th>\n",
       "      <th>Rendimento_t_ha</th>\n",
       "    </tr>\n",
       "  </thead>\n",
       "  <tbody>\n",
       "    <tr>\n",
       "      <th>0</th>\n",
       "      <td>Cocoa, beans</td>\n",
       "      <td>2248.92</td>\n",
       "      <td>17.72</td>\n",
       "      <td>83.40</td>\n",
       "      <td>26.01</td>\n",
       "      <td>11560</td>\n",
       "    </tr>\n",
       "    <tr>\n",
       "      <th>1</th>\n",
       "      <td>Cocoa, beans</td>\n",
       "      <td>1938.42</td>\n",
       "      <td>17.54</td>\n",
       "      <td>82.11</td>\n",
       "      <td>26.11</td>\n",
       "      <td>11253</td>\n",
       "    </tr>\n",
       "    <tr>\n",
       "      <th>2</th>\n",
       "      <td>Cocoa, beans</td>\n",
       "      <td>2301.54</td>\n",
       "      <td>17.81</td>\n",
       "      <td>82.79</td>\n",
       "      <td>26.24</td>\n",
       "      <td>9456</td>\n",
       "    </tr>\n",
       "    <tr>\n",
       "      <th>3</th>\n",
       "      <td>Cocoa, beans</td>\n",
       "      <td>2592.35</td>\n",
       "      <td>17.61</td>\n",
       "      <td>85.07</td>\n",
       "      <td>25.56</td>\n",
       "      <td>9321</td>\n",
       "    </tr>\n",
       "    <tr>\n",
       "      <th>4</th>\n",
       "      <td>Cocoa, beans</td>\n",
       "      <td>2344.72</td>\n",
       "      <td>17.61</td>\n",
       "      <td>84.12</td>\n",
       "      <td>25.76</td>\n",
       "      <td>8800</td>\n",
       "    </tr>\n",
       "  </tbody>\n",
       "</table>\n",
       "</div>"
      ],
      "text/plain": [
       "        Cultura  Precipitacao_mm_dia  Umidade_especifica_gkg  \\\n",
       "0  Cocoa, beans              2248.92                   17.72   \n",
       "1  Cocoa, beans              1938.42                   17.54   \n",
       "2  Cocoa, beans              2301.54                   17.81   \n",
       "3  Cocoa, beans              2592.35                   17.61   \n",
       "4  Cocoa, beans              2344.72                   17.61   \n",
       "\n",
       "   Umidade_relativa_pct  Temperatura_2m_C  Rendimento_t_ha  \n",
       "0                 83.40             26.01            11560  \n",
       "1                 82.11             26.11            11253  \n",
       "2                 82.79             26.24             9456  \n",
       "3                 85.07             25.56             9321  \n",
       "4                 84.12             25.76             8800  "
      ]
     },
     "execution_count": 15,
     "metadata": {},
     "output_type": "execute_result"
    }
   ],
   "source": [
    "# ============== Setup Rápido ==============\n",
    "import warnings; warnings.filterwarnings(\"ignore\")\n",
    "import numpy as np, pandas as pd, matplotlib.pyplot as plt\n",
    "from pathlib import Path\n",
    "\n",
    "from sklearn.compose import ColumnTransformer\n",
    "from sklearn.preprocessing import OneHotEncoder, StandardScaler\n",
    "from sklearn.pipeline import Pipeline\n",
    "from sklearn.model_selection import train_test_split, cross_val_score, KFold\n",
    "from sklearn.metrics import mean_squared_error, mean_absolute_error, r2_score\n",
    "\n",
    "from sklearn.linear_model import LinearRegression, Ridge\n",
    "from sklearn.ensemble import RandomForestRegressor, GradientBoostingRegressor, IsolationForest\n",
    "from sklearn.svm import SVR\n",
    "\n",
    "from sklearn.cluster import KMeans\n",
    "from sklearn.decomposition import PCA\n",
    "from sklearn.metrics import silhouette_score\n",
    "\n",
    "import joblib, os\n",
    "\n",
    "# Localiza dataset\n",
    "DATA = Path(r\"c:\\Users\\pedro\\Downloads\\farmtech_solutions_simple\\data\\crop_yield.csv\")\n",
    "assert DATA.exists(), \"Arquivo data/crop_yield.csv não encontrado. Coloque o CSV em data/.\"\n",
    "print(\"Dataset:\", DATA)\n",
    "\n",
    "# Carrega e padroniza colunas para PT-BR\n",
    "df = pd.read_csv(DATA).rename(columns={\n",
    "    \"Crop\": \"Cultura\",\n",
    "    \"Precipitation (mm day-1)\": \"Precipitacao_mm_dia\",\n",
    "    \"Specific Humidity at 2 Meters (g/kg)\": \"Umidade_especifica_gkg\",\n",
    "    \"Relative Humidity at 2 Meters (%)\": \"Umidade_relativa_pct\",\n",
    "    \"Temperature at 2 Meters (C)\": \"Temperatura_2m_C\",\n",
    "    \"Yield\": \"Rendimento_t_ha\",\n",
    "})\n",
    "req = [\"Cultura\",\"Precipitacao_mm_dia\",\"Umidade_especifica_gkg\",\"Umidade_relativa_pct\",\"Temperatura_2m_C\",\"Rendimento_t_ha\"]\n",
    "missing = [c for c in req if c not in df.columns]\n",
    "assert not missing, f\"Colunas faltando no CSV: {missing}\"\n",
    "print(df.shape); df.head()"
   ]
  },
  {
   "cell_type": "markdown",
   "id": "3b5db4f9",
   "metadata": {},
   "source": [
    "## 1) EDA"
   ]
  },
  {
   "cell_type": "code",
   "execution_count": 18,
   "id": "dd2c912e",
   "metadata": {},
   "outputs": [
    {
     "name": "stdout",
     "output_type": "stream",
     "text": [
      "Faltantes:\n",
      " Cultura                   0\n",
      "Precipitacao_mm_dia       0\n",
      "Umidade_especifica_gkg    0\n",
      "Umidade_relativa_pct      0\n",
      "Temperatura_2m_C          0\n",
      "Rendimento_t_ha           0\n",
      "dtype: int64\n",
      "Duplicados: 0\n",
      "\n",
      "Correlação:\n",
      "                         Precipitacao_mm_dia  Umidade_especifica_gkg  \\\n",
      "Precipitacao_mm_dia                   1.000                   0.488   \n",
      "Umidade_especifica_gkg                0.488                   1.000   \n",
      "Umidade_relativa_pct                  0.749                   0.437   \n",
      "Temperatura_2m_C                     -0.084                   0.699   \n",
      "Rendimento_t_ha                       0.019                   0.013   \n",
      "\n",
      "                        Umidade_relativa_pct  Temperatura_2m_C  \\\n",
      "Precipitacao_mm_dia                    0.749            -0.084   \n",
      "Umidade_especifica_gkg                 0.437             0.699   \n",
      "Umidade_relativa_pct                   1.000            -0.337   \n",
      "Temperatura_2m_C                      -0.337             1.000   \n",
      "Rendimento_t_ha                        0.000             0.013   \n",
      "\n",
      "                        Rendimento_t_ha  \n",
      "Precipitacao_mm_dia               0.019  \n",
      "Umidade_especifica_gkg            0.013  \n",
      "Umidade_relativa_pct              0.000  \n",
      "Temperatura_2m_C                  0.013  \n",
      "Rendimento_t_ha                   1.000  \n"
     ]
    },
    {
     "data": {
      "image/png": "[encoded data removed]",
      "text/plain": [
       "<Figure size 500x300 with 1 Axes>"
      ]
     },
     "metadata": {},
     "output_type": "display_data"
    },
    {
     "data": {
      "image/png": "[encoded data removed]",
      "text/plain": [
       "<Figure size 500x300 with 1 Axes>"
      ]
     },
     "metadata": {},
     "output_type": "display_data"
    },
    {
     "data": {
      "image/png": "[encoded data removed]",
      "text/plain": [
       "<Figure size 500x300 with 1 Axes>"
      ]
     },
     "metadata": {},
     "output_type": "display_data"
    },
    {
     "data": {
      "image/png": "[encoded data removed]",
      "text/plain": [
       "<Figure size 500x300 with 1 Axes>"
      ]
     },
     "metadata": {},
     "output_type": "display_data"
    },
    {
     "data": {
      "image/png": "[encoded data removed]",
      "text/plain": [
       "<Figure size 500x300 with 1 Axes>"
      ]
     },
     "metadata": {},
     "output_type": "display_data"
    }
   ],
   "source": [
    "\n",
    "# ============== 1) EDA Enxuto ==============\n",
    "print(\"Faltantes:\\n\", df.isna().sum())\n",
    "print(\"Duplicados:\", df.duplicated().sum())\n",
    "\n",
    "num_cols = [\"Precipitacao_mm_dia\",\"Umidade_especifica_gkg\",\"Umidade_relativa_pct\",\"Temperatura_2m_C\",\"Rendimento_t_ha\"]\n",
    "corr = df[num_cols].corr()\n",
    "print(\"\\nCorrelação:\\n\", corr.round(3))\n",
    "\n",
    "# Histogramas rápidos\n",
    "for col in num_cols:\n",
    "    plt.figure(figsize=(5,3))\n",
    "    plt.hist(df[col].dropna(), bins=20)\n",
    "    plt.title(f\"Histograma — {col}\")\n",
    "    plt.tight_layout()\n",
    "    plt.show()\n"
   ]
  },
  {
   "cell_type": "markdown",
   "id": "4fc50b11",
   "metadata": {},
   "source": [
    "## 2) Outliers"
   ]
  },
  {
   "cell_type": "code",
   "execution_count": 19,
   "id": "814377d7",
   "metadata": {},
   "outputs": [
    {
     "name": "stdout",
     "output_type": "stream",
     "text": [
      "Outliers (IQR) no Rendimento: 35\n"
     ]
    },
    {
     "data": {
      "image/png": "[encoded data removed]",
      "text/plain": [
       "<Figure size 500x300 with 1 Axes>"
      ]
     },
     "metadata": {},
     "output_type": "display_data"
    },
    {
     "name": "stdout",
     "output_type": "stream",
     "text": [
      "Outliers (IsolationForest): 63\n"
     ]
    }
   ],
   "source": [
    "\n",
    "# ============== 2) Outliers Simples ==============\n",
    "# IQR no alvo\n",
    "q1, q3 = df[\"Rendimento_t_ha\"].quantile(0.25), df[\"Rendimento_t_ha\"].quantile(0.75)\n",
    "iqr = q3 - q1\n",
    "low, up = q1 - 1.5*iqr, q3 + 1.5*iqr\n",
    "print(\"Outliers (IQR) no Rendimento:\", int(((df[\"Rendimento_t_ha\"]<low)|(df[\"Rendimento_t_ha\"]>up)).sum()))\n",
    "\n",
    "plt.figure(figsize=(5,3))\n",
    "plt.boxplot(df[\"Rendimento_t_ha\"].dropna(), vert=True)\n",
    "plt.title(\"Boxplot — Rendimento_t_ha\")\n",
    "plt.tight_layout()\n",
    "plt.show()\n",
    "\n",
    "# IsolationForest (multivariado) — leve\n",
    "num_cols = [\"Precipitacao_mm_dia\",\"Umidade_especifica_gkg\",\"Umidade_relativa_pct\",\"Temperatura_2m_C\",\"Rendimento_t_ha\"]\n",
    "iso = IsolationForest(random_state=42, n_estimators=100)\n",
    "pred_iso = iso.fit_predict(df[num_cols].dropna())\n",
    "print(\"Outliers (IsolationForest):\", int((pred_iso==-1).sum()))\n"
   ]
  },
  {
   "cell_type": "markdown",
   "id": "0c13e384",
   "metadata": {},
   "source": [
    "## 3) Clusterização (KMeans + PCA)"
   ]
  },
  {
   "cell_type": "code",
   "execution_count": 20,
   "id": "6a4baec4",
   "metadata": {},
   "outputs": [
    {
     "name": "stdout",
     "output_type": "stream",
     "text": [
      "Melhor K: 4 | silhouette: 0.4397\n"
     ]
    },
    {
     "data": {
      "image/png": "[encoded data removed]",
      "text/plain": [
       "<Figure size 600x400 with 1 Axes>"
      ]
     },
     "metadata": {},
     "output_type": "display_data"
    },
    {
     "data": {
      "text/html": [
       "<div>\n",
       "<style scoped>\n",
       "    .dataframe tbody tr th:only-of-type {\n",
       "        vertical-align: middle;\n",
       "    }\n",
       "\n",
       "    .dataframe tbody tr th {\n",
       "        vertical-align: top;\n",
       "    }\n",
       "\n",
       "    .dataframe thead th {\n",
       "        text-align: right;\n",
       "    }\n",
       "</style>\n",
       "<table border=\"1\" class=\"dataframe\">\n",
       "  <thead>\n",
       "    <tr style=\"text-align: right;\">\n",
       "      <th></th>\n",
       "      <th>Precipitacao_mm_dia</th>\n",
       "      <th>Umidade_especifica_gkg</th>\n",
       "      <th>Umidade_relativa_pct</th>\n",
       "      <th>Temperatura_2m_C</th>\n",
       "    </tr>\n",
       "    <tr>\n",
       "      <th>cluster</th>\n",
       "      <th></th>\n",
       "      <th></th>\n",
       "      <th></th>\n",
       "      <th></th>\n",
       "    </tr>\n",
       "  </thead>\n",
       "  <tbody>\n",
       "    <tr>\n",
       "      <th>0</th>\n",
       "      <td>2425.46</td>\n",
       "      <td>17.64</td>\n",
       "      <td>84.58</td>\n",
       "      <td>25.69</td>\n",
       "    </tr>\n",
       "    <tr>\n",
       "      <th>1</th>\n",
       "      <td>2733.52</td>\n",
       "      <td>18.34</td>\n",
       "      <td>85.65</td>\n",
       "      <td>26.12</td>\n",
       "    </tr>\n",
       "    <tr>\n",
       "      <th>2</th>\n",
       "      <td>2141.95</td>\n",
       "      <td>17.90</td>\n",
       "      <td>83.75</td>\n",
       "      <td>26.12</td>\n",
       "    </tr>\n",
       "    <tr>\n",
       "      <th>3</th>\n",
       "      <td>2394.97</td>\n",
       "      <td>18.41</td>\n",
       "      <td>84.12</td>\n",
       "      <td>26.50</td>\n",
       "    </tr>\n",
       "  </tbody>\n",
       "</table>\n",
       "</div>"
      ],
      "text/plain": [
       "         Precipitacao_mm_dia  Umidade_especifica_gkg  Umidade_relativa_pct  \\\n",
       "cluster                                                                      \n",
       "0                    2425.46                   17.64                 84.58   \n",
       "1                    2733.52                   18.34                 85.65   \n",
       "2                    2141.95                   17.90                 83.75   \n",
       "3                    2394.97                   18.41                 84.12   \n",
       "\n",
       "         Temperatura_2m_C  \n",
       "cluster                    \n",
       "0                   25.69  \n",
       "1                   26.12  \n",
       "2                   26.12  \n",
       "3                   26.50  "
      ]
     },
     "execution_count": 20,
     "metadata": {},
     "output_type": "execute_result"
    }
   ],
   "source": [
    "\n",
    "# ============== 3) Clusterização (KMeans) ==============\n",
    "from sklearn.preprocessing import StandardScaler\n",
    "features = [\"Precipitacao_mm_dia\",\"Umidade_especifica_gkg\",\"Umidade_relativa_pct\",\"Temperatura_2m_C\"]\n",
    "Xc = df[features].dropna()\n",
    "Xsc = StandardScaler().fit_transform(Xc)\n",
    "\n",
    "best_k, best_s = None, -1\n",
    "for k in [2,3,4]:\n",
    "    lab = KMeans(n_clusters=k, random_state=42, n_init=10).fit_predict(Xsc)\n",
    "    s = silhouette_score(Xsc, lab)\n",
    "    if s > best_s: best_s, best_k = s, k\n",
    "print(\"Melhor K:\", best_k, \"| silhouette:\", round(best_s,4))\n",
    "\n",
    "lab = KMeans(n_clusters=best_k, random_state=42, n_init=10).fit_predict(Xsc)\n",
    "pca = PCA(n_components=2, random_state=42).fit_transform(Xsc)\n",
    "\n",
    "plt.figure(figsize=(6,4))\n",
    "for L in range(best_k):\n",
    "    m = lab==L\n",
    "    plt.scatter(pca[m,0], pca[m,1], s=12, label=f\"Cluster {L}\")\n",
    "plt.legend(); plt.title(\"KMeans — PCA 2D\"); plt.tight_layout(); plt.show()\n",
    "\n",
    "cluster_df = pd.DataFrame(Xc, columns=features).copy()\n",
    "cluster_df[\"cluster\"] = lab\n",
    "cluster_df.groupby(\"cluster\")[features].mean().round(2)\n"
   ]
  },
  {
   "cell_type": "markdown",
   "id": "fea087f2",
   "metadata": {},
   "source": [
    "## 4) Regressão (5 modelos)"
   ]
  },
  {
   "cell_type": "code",
   "execution_count": 21,
   "id": "96bd3eb4",
   "metadata": {},
   "outputs": [
    {
     "name": "stdout",
     "output_type": "stream",
     "text": [
      "             modelo    rmse_media  r2_medio\n",
      "3  GradientBoosting   7704.501450  0.987687\n",
      "2      RandomForest   7707.715207  0.987599\n",
      "0  LinearRegression   7998.039866  0.986960\n",
      "1             Ridge   8441.388674  0.985404\n",
      "4           SVR_RBF  79437.624104 -0.289411\n",
      "Teste — GradientBoosting: RMSE=6061.761 | MAE=3066.408 | R²=0.991\n"
     ]
    },
    {
     "data": {
      "text/plain": [
       "['models/best_model.pkl']"
      ]
     },
     "execution_count": 21,
     "metadata": {},
     "output_type": "execute_result"
    }
   ],
   "source": [
    "# ============== 4) Regressão (5 modelos) ==============\n",
    "X = df[[\"Cultura\",\"Precipitacao_mm_dia\",\"Umidade_especifica_gkg\",\"Umidade_relativa_pct\",\"Temperatura_2m_C\"]].dropna()\n",
    "y = df.loc[X.index, \"Rendimento_t_ha\"]\n",
    "\n",
    "cat, num = [\"Cultura\"], [\"Precipitacao_mm_dia\",\"Umidade_especifica_gkg\",\"Umidade_relativa_pct\",\"Temperatura_2m_C\"]\n",
    "cat_tf = OneHotEncoder(handle_unknown=\"ignore\")\n",
    "num_tf = StandardScaler()\n",
    "\n",
    "def pipe(model, scale_num=True):\n",
    "    pre = ColumnTransformer([(\"num\", num_tf if scale_num else \"passthrough\", num),\n",
    "                             (\"cat\", cat_tf, cat)])\n",
    "    return Pipeline([(\"pre\", pre), (\"model\", model)])\n",
    "\n",
    "models = {\n",
    "  \"LinearRegression\": pipe(LinearRegression(), True),\n",
    "  \"Ridge\": pipe(Ridge(alpha=1.0, random_state=42), True),\n",
    "  \"RandomForest\": pipe(RandomForestRegressor(n_estimators=100, random_state=42), False),\n",
    "  \"GradientBoosting\": pipe(GradientBoostingRegressor(random_state=42), True),\n",
    "  \"SVR_RBF\": pipe(SVR(kernel=\"rbf\", C=10.0, epsilon=0.2), True),\n",
    "}\n",
    "\n",
    "cv = KFold(n_splits=3, shuffle=True, random_state=42)\n",
    "rows=[]\n",
    "for name, p in models.items():\n",
    "    rmse = -cross_val_score(p, X, y, scoring=\"neg_root_mean_squared_error\", cv=cv)\n",
    "    r2 = cross_val_score(p, X, y, scoring=\"r2\", cv=cv)\n",
    "    rows.append({\"modelo\":name,\"rmse_media\":rmse.mean(),\"r2_medio\":r2.mean()})\n",
    "cv_df = pd.DataFrame(rows).sort_values(\"rmse_media\")\n",
    "print(cv_df)\n",
    "\n",
    "best = cv_df.iloc[0][\"modelo\"]; best_pipe = models[best]\n",
    "Xtr,Xte,ytr,yte = train_test_split(X,y,test_size=0.2,random_state=42)\n",
    "best_pipe.fit(Xtr,ytr); pred = best_pipe.predict(Xte)\n",
    "rmse = np.sqrt(mean_squared_error(yte, pred))  # Calculate RMSE manually\n",
    "mae = mean_absolute_error(yte, pred)\n",
    "r2 = r2_score(yte, pred)\n",
    "print(f\"Teste — {best}: RMSE={rmse:.3f} | MAE={mae:.3f} | R²={r2:.3f}\")\n",
    "\n",
    "# Salva o melhor modelo (opcional)\n",
    "os.makedirs(\"models\", exist_ok=True)\n",
    "joblib.dump(best_pipe, \"models/best_model.pkl\")"
   ]
  },
  {
   "cell_type": "markdown",
   "id": "56f40518",
   "metadata": {},
   "source": []
  }
 ],
 "metadata": {
  "kernelspec": {
   "display_name": "Python 3",
   "language": "python",
   "name": "python3"
  },
  "language_info": {
   "codemirror_mode": {
    "name": "ipython",
    "version": 3
   },
   "file_extension": ".py",
   "mimetype": "text/x-python",
   "name": "python",
   "nbconvert_exporter": "python",
   "pygments_lexer": "ipython3",
   "version": "3.13.5"
  }
 },
 "nbformat": 4,
 "nbformat_minor": 5
}
